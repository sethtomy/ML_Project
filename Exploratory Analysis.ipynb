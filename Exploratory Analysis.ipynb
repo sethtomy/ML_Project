{
 "cells": [
  {
   "cell_type": "code",
   "execution_count": 32,
   "metadata": {},
   "outputs": [],
   "source": [
    "import pandas as pd\n",
    "import numpy as np"
   ]
  },
  {
   "cell_type": "code",
   "execution_count": 43,
   "metadata": {},
   "outputs": [],
   "source": [
    "from sklearn import datasets, linear_model\n",
    "from sklearn.model_selection import LeaveOneOut, cross_val_score, KFold, train_test_split\n",
    "from sklearn.linear_model import LogisticRegression, LinearRegression\n",
    "from sklearn.neighbors import KNeighborsClassifier\n",
    "from sklearn.svm import LinearSVC\n",
    "\n",
    "from matplotlib import pyplot as plt"
   ]
  },
  {
   "cell_type": "code",
   "execution_count": 44,
   "metadata": {},
   "outputs": [
    {
     "name": "stdout",
     "output_type": "stream",
     "text": [
      "X.shape:(150, 3312)\n",
      "y.shape:(150, 1)\n"
     ]
    }
   ],
   "source": [
    "X = pd.read_csv('datasets/Classification/Data1/TrainData1.txt', sep='\\s+', header=None)\n",
    "y = pd.read_csv('datasets/Classification/Data1/TrainLabel1.txt', header=None)\n",
    "print('X.shape:' + str(X.shape))\n",
    "print('y.shape:' + str(y.shape))"
   ]
  },
  {
   "cell_type": "code",
   "execution_count": 45,
   "metadata": {},
   "outputs": [
    {
     "name": "stdout",
     "output_type": "stream",
     "text": [
      "N: 150\n",
      "num_features: 3312\n"
     ]
    }
   ],
   "source": [
    "N, num_features = X.shape\n",
    "print('N: ' + str(N))\n",
    "print('num_features: ' + str(num_features))"
   ]
  },
  {
   "cell_type": "code",
   "execution_count": 46,
   "metadata": {},
   "outputs": [
    {
     "data": {
      "text/html": [
       "<div>\n",
       "<style scoped>\n",
       "    .dataframe tbody tr th:only-of-type {\n",
       "        vertical-align: middle;\n",
       "    }\n",
       "\n",
       "    .dataframe tbody tr th {\n",
       "        vertical-align: top;\n",
       "    }\n",
       "\n",
       "    .dataframe thead th {\n",
       "        text-align: right;\n",
       "    }\n",
       "</style>\n",
       "<table border=\"1\" class=\"dataframe\">\n",
       "  <thead>\n",
       "    <tr style=\"text-align: right;\">\n",
       "      <th></th>\n",
       "      <th>0</th>\n",
       "      <th>1</th>\n",
       "      <th>2</th>\n",
       "      <th>3</th>\n",
       "      <th>4</th>\n",
       "      <th>5</th>\n",
       "      <th>6</th>\n",
       "      <th>7</th>\n",
       "      <th>8</th>\n",
       "      <th>9</th>\n",
       "      <th>...</th>\n",
       "      <th>3302</th>\n",
       "      <th>3303</th>\n",
       "      <th>3304</th>\n",
       "      <th>3305</th>\n",
       "      <th>3306</th>\n",
       "      <th>3307</th>\n",
       "      <th>3308</th>\n",
       "      <th>3309</th>\n",
       "      <th>3310</th>\n",
       "      <th>3311</th>\n",
       "    </tr>\n",
       "  </thead>\n",
       "  <tbody>\n",
       "    <tr>\n",
       "      <th>0</th>\n",
       "      <td>3.824254</td>\n",
       "      <td>1.923762</td>\n",
       "      <td>1.918450</td>\n",
       "      <td>2.352067</td>\n",
       "      <td>3.117298</td>\n",
       "      <td>3.051735</td>\n",
       "      <td>3.307977</td>\n",
       "      <td>3.430222</td>\n",
       "      <td>3.586667</td>\n",
       "      <td>3.605218</td>\n",
       "      <td>...</td>\n",
       "      <td>1.836830</td>\n",
       "      <td>1.855640</td>\n",
       "      <td>1.142389</td>\n",
       "      <td>2.054345</td>\n",
       "      <td>2.808224</td>\n",
       "      <td>1.782186</td>\n",
       "      <td>2.665703</td>\n",
       "      <td>2.468214</td>\n",
       "      <td>2.478581</td>\n",
       "      <td>2.308842</td>\n",
       "    </tr>\n",
       "    <tr>\n",
       "      <th>1</th>\n",
       "      <td>3.904190</td>\n",
       "      <td>2.309524</td>\n",
       "      <td>2.152930</td>\n",
       "      <td>2.350030</td>\n",
       "      <td>3.532368</td>\n",
       "      <td>3.524866</td>\n",
       "      <td>3.677791</td>\n",
       "      <td>3.636671</td>\n",
       "      <td>3.696868</td>\n",
       "      <td>3.716764</td>\n",
       "      <td>...</td>\n",
       "      <td>1.951532</td>\n",
       "      <td>1.442323</td>\n",
       "      <td>1.000000</td>\n",
       "      <td>2.127914</td>\n",
       "      <td>2.979658</td>\n",
       "      <td>1.961089</td>\n",
       "      <td>2.519027</td>\n",
       "      <td>2.054383</td>\n",
       "      <td>2.689903</td>\n",
       "      <td>2.090928</td>\n",
       "    </tr>\n",
       "    <tr>\n",
       "      <th>2</th>\n",
       "      <td>3.750908</td>\n",
       "      <td>1.161068</td>\n",
       "      <td>1.017033</td>\n",
       "      <td>2.347993</td>\n",
       "      <td>3.381889</td>\n",
       "      <td>3.393096</td>\n",
       "      <td>3.509134</td>\n",
       "      <td>3.512466</td>\n",
       "      <td>3.622203</td>\n",
       "      <td>3.603050</td>\n",
       "      <td>...</td>\n",
       "      <td>1.000000</td>\n",
       "      <td>1.584105</td>\n",
       "      <td>1.000000</td>\n",
       "      <td>1.945321</td>\n",
       "      <td>3.257004</td>\n",
       "      <td>1.965061</td>\n",
       "      <td>2.536066</td>\n",
       "      <td>1.449324</td>\n",
       "      <td>2.605230</td>\n",
       "      <td>1.368659</td>\n",
       "    </tr>\n",
       "    <tr>\n",
       "      <th>3</th>\n",
       "      <td>3.809383</td>\n",
       "      <td>1.912355</td>\n",
       "      <td>1.856940</td>\n",
       "      <td>2.498944</td>\n",
       "      <td>3.289406</td>\n",
       "      <td>3.371232</td>\n",
       "      <td>3.541995</td>\n",
       "      <td>3.514497</td>\n",
       "      <td>3.473179</td>\n",
       "      <td>3.628930</td>\n",
       "      <td>...</td>\n",
       "      <td>1.869965</td>\n",
       "      <td>1.481658</td>\n",
       "      <td>1.000000</td>\n",
       "      <td>2.155032</td>\n",
       "      <td>3.270371</td>\n",
       "      <td>1.928473</td>\n",
       "      <td>2.618074</td>\n",
       "      <td>2.154013</td>\n",
       "      <td>2.530046</td>\n",
       "      <td>2.185514</td>\n",
       "    </tr>\n",
       "    <tr>\n",
       "      <th>4</th>\n",
       "      <td>3.893561</td>\n",
       "      <td>2.094192</td>\n",
       "      <td>1.881271</td>\n",
       "      <td>2.785707</td>\n",
       "      <td>3.344339</td>\n",
       "      <td>3.274417</td>\n",
       "      <td>3.485872</td>\n",
       "      <td>3.516527</td>\n",
       "      <td>3.642358</td>\n",
       "      <td>3.688235</td>\n",
       "      <td>...</td>\n",
       "      <td>1.480725</td>\n",
       "      <td>1.510545</td>\n",
       "      <td>1.000000</td>\n",
       "      <td>2.094192</td>\n",
       "      <td>3.246666</td>\n",
       "      <td>1.824516</td>\n",
       "      <td>2.562317</td>\n",
       "      <td>1.942256</td>\n",
       "      <td>2.598517</td>\n",
       "      <td>1.764624</td>\n",
       "    </tr>\n",
       "  </tbody>\n",
       "</table>\n",
       "<p>5 rows × 3312 columns</p>\n",
       "</div>"
      ],
      "text/plain": [
       "       0         1         2         3         4         5         6     \\\n",
       "0  3.824254  1.923762  1.918450  2.352067  3.117298  3.051735  3.307977   \n",
       "1  3.904190  2.309524  2.152930  2.350030  3.532368  3.524866  3.677791   \n",
       "2  3.750908  1.161068  1.017033  2.347993  3.381889  3.393096  3.509134   \n",
       "3  3.809383  1.912355  1.856940  2.498944  3.289406  3.371232  3.541995   \n",
       "4  3.893561  2.094192  1.881271  2.785707  3.344339  3.274417  3.485872   \n",
       "\n",
       "       7         8         9     ...      3302      3303      3304      3305  \\\n",
       "0  3.430222  3.586667  3.605218  ...  1.836830  1.855640  1.142389  2.054345   \n",
       "1  3.636671  3.696868  3.716764  ...  1.951532  1.442323  1.000000  2.127914   \n",
       "2  3.512466  3.622203  3.603050  ...  1.000000  1.584105  1.000000  1.945321   \n",
       "3  3.514497  3.473179  3.628930  ...  1.869965  1.481658  1.000000  2.155032   \n",
       "4  3.516527  3.642358  3.688235  ...  1.480725  1.510545  1.000000  2.094192   \n",
       "\n",
       "       3306      3307      3308      3309      3310      3311  \n",
       "0  2.808224  1.782186  2.665703  2.468214  2.478581  2.308842  \n",
       "1  2.979658  1.961089  2.519027  2.054383  2.689903  2.090928  \n",
       "2  3.257004  1.965061  2.536066  1.449324  2.605230  1.368659  \n",
       "3  3.270371  1.928473  2.618074  2.154013  2.530046  2.185514  \n",
       "4  3.246666  1.824516  2.562317  1.942256  2.598517  1.764624  \n",
       "\n",
       "[5 rows x 3312 columns]"
      ]
     },
     "execution_count": 46,
     "metadata": {},
     "output_type": "execute_result"
    }
   ],
   "source": [
    "# fill missing values\n",
    "X = X[X < 1e99]\n",
    "# linear\n",
    "X = X.interpolate()\n",
    "# fill outside values with mean\n",
    "X = X.fillna(X.mean())\n",
    "X.head()"
   ]
  },
  {
   "cell_type": "code",
   "execution_count": 47,
   "metadata": {},
   "outputs": [
    {
     "data": {
      "text/plain": [
       "array([1, 2, 4, 3, 5])"
      ]
     },
     "execution_count": 47,
     "metadata": {},
     "output_type": "execute_result"
    }
   ],
   "source": [
    "y[0].unique()"
   ]
  },
  {
   "cell_type": "code",
   "execution_count": 54,
   "metadata": {},
   "outputs": [],
   "source": [
    "X_train, X_test, y_train, y_test = train_test_split(X, y, test_size=0.1, shuffle=True, stratify=y)"
   ]
  },
  {
   "cell_type": "code",
   "execution_count": 49,
   "metadata": {},
   "outputs": [
    {
     "data": {
      "text/plain": [
       "(135, 3312)"
      ]
     },
     "execution_count": 49,
     "metadata": {},
     "output_type": "execute_result"
    }
   ],
   "source": [
    "X_train.shape"
   ]
  },
  {
   "cell_type": "markdown",
   "metadata": {},
   "source": [
    "## KNN(Distance Weighted, Euclidian Distance) ##"
   ]
  },
  {
   "cell_type": "code",
   "execution_count": 50,
   "metadata": {},
   "outputs": [],
   "source": [
    "knn = KNeighborsClassifier(n_neighbors=10, weights='distance')\n",
    "svm = LinearSVC()\n",
    "linreg = LinearRegression()"
   ]
  },
  {
   "cell_type": "code",
   "execution_count": 51,
   "metadata": {},
   "outputs": [
    {
     "name": "stdout",
     "output_type": "stream",
     "text": [
      "knn: 1.0\n"
     ]
    },
    {
     "name": "stderr",
     "output_type": "stream",
     "text": [
      "/Users/sethtomy/miniconda3/envs/DS/lib/python3.6/site-packages/sklearn/svm/base.py:931: ConvergenceWarning: Liblinear failed to converge, increase the number of iterations.\n",
      "  \"the number of iterations.\", ConvergenceWarning)\n"
     ]
    },
    {
     "name": "stdout",
     "output_type": "stream",
     "text": [
      "svm: 1.0\n",
      "linear regression: 1.0\n",
      "knn: 0.9285714285714286\n"
     ]
    },
    {
     "name": "stderr",
     "output_type": "stream",
     "text": [
      "/Users/sethtomy/miniconda3/envs/DS/lib/python3.6/site-packages/sklearn/svm/base.py:931: ConvergenceWarning: Liblinear failed to converge, increase the number of iterations.\n",
      "  \"the number of iterations.\", ConvergenceWarning)\n"
     ]
    },
    {
     "name": "stdout",
     "output_type": "stream",
     "text": [
      "svm: 1.0\n",
      "linear regression: 1.0\n",
      "knn: 0.8571428571428571\n"
     ]
    },
    {
     "name": "stderr",
     "output_type": "stream",
     "text": [
      "/Users/sethtomy/miniconda3/envs/DS/lib/python3.6/site-packages/sklearn/svm/base.py:931: ConvergenceWarning: Liblinear failed to converge, increase the number of iterations.\n",
      "  \"the number of iterations.\", ConvergenceWarning)\n"
     ]
    },
    {
     "name": "stdout",
     "output_type": "stream",
     "text": [
      "svm: 0.9285714285714286\n",
      "linear regression: 0.9285714285714286\n",
      "knn: 0.8571428571428571\n"
     ]
    },
    {
     "name": "stderr",
     "output_type": "stream",
     "text": [
      "/Users/sethtomy/miniconda3/envs/DS/lib/python3.6/site-packages/sklearn/svm/base.py:931: ConvergenceWarning: Liblinear failed to converge, increase the number of iterations.\n",
      "  \"the number of iterations.\", ConvergenceWarning)\n"
     ]
    },
    {
     "name": "stdout",
     "output_type": "stream",
     "text": [
      "svm: 0.9285714285714286\n",
      "linear regression: 0.9285714285714286\n",
      "knn: 0.9285714285714286\n"
     ]
    },
    {
     "name": "stderr",
     "output_type": "stream",
     "text": [
      "/Users/sethtomy/miniconda3/envs/DS/lib/python3.6/site-packages/sklearn/svm/base.py:931: ConvergenceWarning: Liblinear failed to converge, increase the number of iterations.\n",
      "  \"the number of iterations.\", ConvergenceWarning)\n"
     ]
    },
    {
     "name": "stdout",
     "output_type": "stream",
     "text": [
      "svm: 1.0\n",
      "linear regression: 1.0\n",
      "knn: 1.0\n"
     ]
    },
    {
     "name": "stderr",
     "output_type": "stream",
     "text": [
      "/Users/sethtomy/miniconda3/envs/DS/lib/python3.6/site-packages/sklearn/svm/base.py:931: ConvergenceWarning: Liblinear failed to converge, increase the number of iterations.\n",
      "  \"the number of iterations.\", ConvergenceWarning)\n"
     ]
    },
    {
     "name": "stdout",
     "output_type": "stream",
     "text": [
      "svm: 1.0\n",
      "linear regression: 1.0\n",
      "knn: 0.9230769230769231\n"
     ]
    },
    {
     "name": "stderr",
     "output_type": "stream",
     "text": [
      "/Users/sethtomy/miniconda3/envs/DS/lib/python3.6/site-packages/sklearn/svm/base.py:931: ConvergenceWarning: Liblinear failed to converge, increase the number of iterations.\n",
      "  \"the number of iterations.\", ConvergenceWarning)\n"
     ]
    },
    {
     "name": "stdout",
     "output_type": "stream",
     "text": [
      "svm: 0.9230769230769231\n",
      "linear regression: 0.9230769230769231\n",
      "knn: 1.0\n"
     ]
    },
    {
     "name": "stderr",
     "output_type": "stream",
     "text": [
      "/Users/sethtomy/miniconda3/envs/DS/lib/python3.6/site-packages/sklearn/svm/base.py:931: ConvergenceWarning: Liblinear failed to converge, increase the number of iterations.\n",
      "  \"the number of iterations.\", ConvergenceWarning)\n"
     ]
    },
    {
     "name": "stdout",
     "output_type": "stream",
     "text": [
      "svm: 1.0\n",
      "linear regression: 1.0\n",
      "knn: 0.9230769230769231\n"
     ]
    },
    {
     "name": "stderr",
     "output_type": "stream",
     "text": [
      "/Users/sethtomy/miniconda3/envs/DS/lib/python3.6/site-packages/sklearn/svm/base.py:931: ConvergenceWarning: Liblinear failed to converge, increase the number of iterations.\n",
      "  \"the number of iterations.\", ConvergenceWarning)\n"
     ]
    },
    {
     "name": "stdout",
     "output_type": "stream",
     "text": [
      "svm: 1.0\n",
      "linear regression: 1.0\n",
      "knn: 0.8461538461538461\n",
      "svm: 0.8461538461538461\n",
      "linear regression: 0.8461538461538461\n"
     ]
    },
    {
     "name": "stderr",
     "output_type": "stream",
     "text": [
      "/Users/sethtomy/miniconda3/envs/DS/lib/python3.6/site-packages/sklearn/svm/base.py:931: ConvergenceWarning: Liblinear failed to converge, increase the number of iterations.\n",
      "  \"the number of iterations.\", ConvergenceWarning)\n"
     ]
    }
   ],
   "source": [
    "# Cross Validation\n",
    "\n",
    "kf = KFold(n_splits=10, shuffle=True)\n",
    "for train_index, test_index in kf.split(X_train):\n",
    "    X_train_split, y_train_split = X_train.iloc[train_index], y_train.iloc[train_index]\n",
    "    X_valid_split, y_valid_split = X_train.iloc[test_index], y_train.iloc[test_index]\n",
    "    knn.fit(X_train_split, y_train_split.values.flatten())\n",
    "    print('knn: ' + str(knn.score(X_valid_split, y_valid_split)))\n",
    "    svm.fit(X_train_split, y_train_split.values.flatten())\n",
    "    print('svm: ' + str(svm.score(X_valid_split, y_valid_split)))\n",
    "    linreg.fit(X_train_split, y_train_split.values.flatten())\n",
    "    print('linear regression: ' + str(svm.score(X_valid_split, y_valid_split)))"
   ]
  },
  {
   "cell_type": "code",
   "execution_count": 55,
   "metadata": {},
   "outputs": [
    {
     "name": "stdout",
     "output_type": "stream",
     "text": [
      "knn: 1.0\n",
      "svm: 1.0\n",
      "linear regression: 1.0\n"
     ]
    },
    {
     "name": "stderr",
     "output_type": "stream",
     "text": [
      "/Users/sethtomy/miniconda3/envs/DS/lib/python3.6/site-packages/sklearn/svm/base.py:931: ConvergenceWarning: Liblinear failed to converge, increase the number of iterations.\n",
      "  \"the number of iterations.\", ConvergenceWarning)\n"
     ]
    }
   ],
   "source": [
    "# whole dataset, 90% train, 10% test\n",
    "knn.fit(X, y.values.flatten())\n",
    "print('knn: ' + str(knn.score(X_test, y_test)))\n",
    "svm.fit(X, y.values.flatten())\n",
    "print('svm: ' + str(svm.score(X_test, y_test)))\n",
    "linreg.fit(X, y.values.flatten())\n",
    "print('linear regression: ' + str(linreg.score(X_test, y_test)))"
   ]
  },
  {
   "cell_type": "markdown",
   "metadata": {},
   "source": [
    "## SVM"
   ]
  },
  {
   "cell_type": "code",
   "execution_count": 75,
   "metadata": {},
   "outputs": [],
   "source": [
    "for i in range(1,6):\n",
    "    data = 'datasets/Classification/Data{}/TrainData{}.txt'.format(i, i)\n",
    "    label = 'datasets/Classification/Data{}/TrainLabel{}.txt'.format(i, i)\n",
    "    X = pd.read_csv(data, sep='\\s+', header=None)\n",
    "    y = pd.read_csv(label, header=None)\n",
    "    X = X[X < 1e99]\n",
    "    # fill missing values\n",
    "    if X.isnull().any().any():\n",
    "        # change to nan\n",
    "        X = X[X < 1e99]\n",
    "        # fill linear-ly\n",
    "        X = X.interpolate()\n",
    "        # fill outside values with mean\n",
    "        X = X.fillna(X.mean())"
   ]
  },
  {
   "cell_type": "code",
   "execution_count": 64,
   "metadata": {},
   "outputs": [
    {
     "data": {
      "text/html": [
       "<div>\n",
       "<style scoped>\n",
       "    .dataframe tbody tr th:only-of-type {\n",
       "        vertical-align: middle;\n",
       "    }\n",
       "\n",
       "    .dataframe tbody tr th {\n",
       "        vertical-align: top;\n",
       "    }\n",
       "\n",
       "    .dataframe thead th {\n",
       "        text-align: right;\n",
       "    }\n",
       "</style>\n",
       "<table border=\"1\" class=\"dataframe\">\n",
       "  <thead>\n",
       "    <tr style=\"text-align: right;\">\n",
       "      <th></th>\n",
       "      <th>0</th>\n",
       "    </tr>\n",
       "  </thead>\n",
       "  <tbody>\n",
       "    <tr>\n",
       "      <th>0</th>\n",
       "      <td>5</td>\n",
       "    </tr>\n",
       "    <tr>\n",
       "      <th>1</th>\n",
       "      <td>5</td>\n",
       "    </tr>\n",
       "    <tr>\n",
       "      <th>2</th>\n",
       "      <td>5</td>\n",
       "    </tr>\n",
       "    <tr>\n",
       "      <th>3</th>\n",
       "      <td>6</td>\n",
       "    </tr>\n",
       "    <tr>\n",
       "      <th>4</th>\n",
       "      <td>5</td>\n",
       "    </tr>\n",
       "  </tbody>\n",
       "</table>\n",
       "</div>"
      ],
      "text/plain": [
       "   0\n",
       "0  5\n",
       "1  5\n",
       "2  5\n",
       "3  6\n",
       "4  5"
      ]
     },
     "execution_count": 64,
     "metadata": {},
     "output_type": "execute_result"
    }
   ],
   "source": [
    "y.head()"
   ]
  },
  {
   "cell_type": "code",
   "execution_count": null,
   "metadata": {},
   "outputs": [],
   "source": []
  }
 ],
 "metadata": {
  "kernelspec": {
   "display_name": "Python 3",
   "language": "python",
   "name": "python3"
  },
  "language_info": {
   "codemirror_mode": {
    "name": "ipython",
    "version": 3
   },
   "file_extension": ".py",
   "mimetype": "text/x-python",
   "name": "python",
   "nbconvert_exporter": "python",
   "pygments_lexer": "ipython3",
   "version": "3.6.8"
  },
  "widgets": {
   "state": {},
   "version": "1.1.2"
  }
 },
 "nbformat": 4,
 "nbformat_minor": 2
}
