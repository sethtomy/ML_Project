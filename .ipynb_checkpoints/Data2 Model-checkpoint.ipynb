{
 "cells": [
  {
   "cell_type": "code",
   "execution_count": 20,
   "metadata": {},
   "outputs": [],
   "source": [
    "import pandas as pd\n",
    "import numpy as np"
   ]
  },
  {
   "cell_type": "code",
   "execution_count": 21,
   "metadata": {},
   "outputs": [],
   "source": [
    "from sklearn import datasets, linear_model\n",
    "from sklearn.model_selection import LeaveOneOut, cross_val_score, KFold, train_test_split\n",
    "from sklearn.linear_model import LogisticRegression, LinearRegression\n",
    "from sklearn.neighbors import KNeighborsClassifier\n",
    "from matplotlib import pyplot as plt"
   ]
  },
  {
   "cell_type": "code",
   "execution_count": 22,
   "metadata": {},
   "outputs": [
    {
     "name": "stdout",
     "output_type": "stream",
     "text": [
      "X.shape:(100, 9182)\n",
      "y.shape:(100, 1)\n"
     ]
    }
   ],
   "source": [
    "X = pd.read_csv('datasets/Classification/Data2/TrainData2.txt', sep='\\s+', header=None)\n",
    "y = pd.read_csv('datasets/Classification/Data2/TrainLabel2.txt', header=None)\n",
    "print('X.shape:' + str(X.shape))\n",
    "print('y.shape:' + str(y.shape))"
   ]
  },
  {
   "cell_type": "code",
   "execution_count": 23,
   "metadata": {},
   "outputs": [
    {
     "data": {
      "text/plain": [
       "False"
      ]
     },
     "execution_count": 23,
     "metadata": {},
     "output_type": "execute_result"
    }
   ],
   "source": [
    "y.isnull().any().any()"
   ]
  },
  {
   "cell_type": "code",
   "execution_count": 24,
   "metadata": {},
   "outputs": [
    {
     "data": {
      "text/html": [
       "<div>\n",
       "<style scoped>\n",
       "    .dataframe tbody tr th:only-of-type {\n",
       "        vertical-align: middle;\n",
       "    }\n",
       "\n",
       "    .dataframe tbody tr th {\n",
       "        vertical-align: top;\n",
       "    }\n",
       "\n",
       "    .dataframe thead th {\n",
       "        text-align: right;\n",
       "    }\n",
       "</style>\n",
       "<table border=\"1\" class=\"dataframe\">\n",
       "  <thead>\n",
       "    <tr style=\"text-align: right;\">\n",
       "      <th></th>\n",
       "      <th>0</th>\n",
       "      <th>1</th>\n",
       "      <th>2</th>\n",
       "      <th>3</th>\n",
       "      <th>4</th>\n",
       "      <th>5</th>\n",
       "      <th>6</th>\n",
       "      <th>7</th>\n",
       "      <th>8</th>\n",
       "      <th>9</th>\n",
       "      <th>...</th>\n",
       "      <th>9172</th>\n",
       "      <th>9173</th>\n",
       "      <th>9174</th>\n",
       "      <th>9175</th>\n",
       "      <th>9176</th>\n",
       "      <th>9177</th>\n",
       "      <th>9178</th>\n",
       "      <th>9179</th>\n",
       "      <th>9180</th>\n",
       "      <th>9181</th>\n",
       "    </tr>\n",
       "  </thead>\n",
       "  <tbody>\n",
       "    <tr>\n",
       "      <th>0</th>\n",
       "      <td>2.357935</td>\n",
       "      <td>1.505150</td>\n",
       "      <td>1.477121</td>\n",
       "      <td>1.301030</td>\n",
       "      <td>2.992995</td>\n",
       "      <td>1.30103</td>\n",
       "      <td>2.729974</td>\n",
       "      <td>3.275542</td>\n",
       "      <td>3.531734</td>\n",
       "      <td>2.117271</td>\n",
       "      <td>...</td>\n",
       "      <td>1.531479</td>\n",
       "      <td>1.792392</td>\n",
       "      <td>2.000000</td>\n",
       "      <td>1.477121</td>\n",
       "      <td>1.919078</td>\n",
       "      <td>1.755875</td>\n",
       "      <td>2.025306</td>\n",
       "      <td>2.107210</td>\n",
       "      <td>1.869232</td>\n",
       "      <td>1.30103</td>\n",
       "    </tr>\n",
       "    <tr>\n",
       "      <th>1</th>\n",
       "      <td>1.995635</td>\n",
       "      <td>1.633468</td>\n",
       "      <td>1.740363</td>\n",
       "      <td>1.819544</td>\n",
       "      <td>3.703377</td>\n",
       "      <td>1.30103</td>\n",
       "      <td>3.000434</td>\n",
       "      <td>3.118926</td>\n",
       "      <td>3.363424</td>\n",
       "      <td>1.568202</td>\n",
       "      <td>...</td>\n",
       "      <td>1.755875</td>\n",
       "      <td>2.064458</td>\n",
       "      <td>1.431364</td>\n",
       "      <td>1.633468</td>\n",
       "      <td>1.954242</td>\n",
       "      <td>1.913814</td>\n",
       "      <td>2.685742</td>\n",
       "      <td>2.952308</td>\n",
       "      <td>1.959041</td>\n",
       "      <td>1.30103</td>\n",
       "    </tr>\n",
       "    <tr>\n",
       "      <th>2</th>\n",
       "      <td>1.929419</td>\n",
       "      <td>1.301030</td>\n",
       "      <td>1.447158</td>\n",
       "      <td>1.301030</td>\n",
       "      <td>3.377852</td>\n",
       "      <td>1.30103</td>\n",
       "      <td>3.053463</td>\n",
       "      <td>3.390405</td>\n",
       "      <td>3.359836</td>\n",
       "      <td>1.707570</td>\n",
       "      <td>...</td>\n",
       "      <td>1.982271</td>\n",
       "      <td>2.198657</td>\n",
       "      <td>1.301030</td>\n",
       "      <td>1.707570</td>\n",
       "      <td>2.041393</td>\n",
       "      <td>1.934499</td>\n",
       "      <td>1.792392</td>\n",
       "      <td>1.880814</td>\n",
       "      <td>1.963788</td>\n",
       "      <td>1.30103</td>\n",
       "    </tr>\n",
       "    <tr>\n",
       "      <th>3</th>\n",
       "      <td>2.227887</td>\n",
       "      <td>1.602060</td>\n",
       "      <td>1.556302</td>\n",
       "      <td>1.908485</td>\n",
       "      <td>3.424392</td>\n",
       "      <td>1.30103</td>\n",
       "      <td>3.084219</td>\n",
       "      <td>3.288696</td>\n",
       "      <td>3.364176</td>\n",
       "      <td>1.301030</td>\n",
       "      <td>...</td>\n",
       "      <td>1.792392</td>\n",
       "      <td>2.204120</td>\n",
       "      <td>1.633468</td>\n",
       "      <td>1.716003</td>\n",
       "      <td>1.913814</td>\n",
       "      <td>2.130334</td>\n",
       "      <td>1.778151</td>\n",
       "      <td>1.838849</td>\n",
       "      <td>1.949390</td>\n",
       "      <td>1.30103</td>\n",
       "    </tr>\n",
       "    <tr>\n",
       "      <th>4</th>\n",
       "      <td>1.763428</td>\n",
       "      <td>1.623249</td>\n",
       "      <td>1.301030</td>\n",
       "      <td>2.029384</td>\n",
       "      <td>3.551694</td>\n",
       "      <td>1.30103</td>\n",
       "      <td>3.165541</td>\n",
       "      <td>3.141450</td>\n",
       "      <td>3.495128</td>\n",
       "      <td>1.886491</td>\n",
       "      <td>...</td>\n",
       "      <td>1.301030</td>\n",
       "      <td>1.785330</td>\n",
       "      <td>2.201397</td>\n",
       "      <td>1.623249</td>\n",
       "      <td>1.863323</td>\n",
       "      <td>1.913814</td>\n",
       "      <td>1.778151</td>\n",
       "      <td>1.698970</td>\n",
       "      <td>1.869232</td>\n",
       "      <td>1.30103</td>\n",
       "    </tr>\n",
       "  </tbody>\n",
       "</table>\n",
       "<p>5 rows × 9182 columns</p>\n",
       "</div>"
      ],
      "text/plain": [
       "       0         1         2         3         4        5         6     \\\n",
       "0  2.357935  1.505150  1.477121  1.301030  2.992995  1.30103  2.729974   \n",
       "1  1.995635  1.633468  1.740363  1.819544  3.703377  1.30103  3.000434   \n",
       "2  1.929419  1.301030  1.447158  1.301030  3.377852  1.30103  3.053463   \n",
       "3  2.227887  1.602060  1.556302  1.908485  3.424392  1.30103  3.084219   \n",
       "4  1.763428  1.623249  1.301030  2.029384  3.551694  1.30103  3.165541   \n",
       "\n",
       "       7         8         9     ...      9172      9173      9174      9175  \\\n",
       "0  3.275542  3.531734  2.117271  ...  1.531479  1.792392  2.000000  1.477121   \n",
       "1  3.118926  3.363424  1.568202  ...  1.755875  2.064458  1.431364  1.633468   \n",
       "2  3.390405  3.359836  1.707570  ...  1.982271  2.198657  1.301030  1.707570   \n",
       "3  3.288696  3.364176  1.301030  ...  1.792392  2.204120  1.633468  1.716003   \n",
       "4  3.141450  3.495128  1.886491  ...  1.301030  1.785330  2.201397  1.623249   \n",
       "\n",
       "       9176      9177      9178      9179      9180     9181  \n",
       "0  1.919078  1.755875  2.025306  2.107210  1.869232  1.30103  \n",
       "1  1.954242  1.913814  2.685742  2.952308  1.959041  1.30103  \n",
       "2  2.041393  1.934499  1.792392  1.880814  1.963788  1.30103  \n",
       "3  1.913814  2.130334  1.778151  1.838849  1.949390  1.30103  \n",
       "4  1.863323  1.913814  1.778151  1.698970  1.869232  1.30103  \n",
       "\n",
       "[5 rows x 9182 columns]"
      ]
     },
     "execution_count": 24,
     "metadata": {},
     "output_type": "execute_result"
    }
   ],
   "source": [
    "# fill missing values\n",
    "X = X[X < 1e99]\n",
    "# linear\n",
    "X = X.interpolate()\n",
    "# fill outside values with mean\n",
    "X = X.fillna(X.mean())\n",
    "X.head()"
   ]
  },
  {
   "cell_type": "code",
   "execution_count": 25,
   "metadata": {},
   "outputs": [],
   "source": [
    "X_train, X_test, y_train, y_test = train_test_split(X, y, test_size=0.1, shuffle=True)"
   ]
  },
  {
   "cell_type": "code",
   "execution_count": 26,
   "metadata": {},
   "outputs": [
    {
     "data": {
      "text/plain": [
       "(90, 9182)"
      ]
     },
     "execution_count": 26,
     "metadata": {},
     "output_type": "execute_result"
    }
   ],
   "source": [
    "X_train.shape"
   ]
  },
  {
   "cell_type": "markdown",
   "metadata": {},
   "source": [
    "## KNN(Distance Weighted, Euclidian Distance) ##"
   ]
  },
  {
   "cell_type": "code",
   "execution_count": 30,
   "metadata": {},
   "outputs": [],
   "source": [
    "knn = KNeighborsClassifier(n_neighbors=3, weights='distance')"
   ]
  },
  {
   "cell_type": "code",
   "execution_count": 31,
   "metadata": {},
   "outputs": [
    {
     "name": "stdout",
     "output_type": "stream",
     "text": [
      "0.6666666666666666\n",
      "0.8888888888888888\n",
      "1.0\n",
      "1.0\n",
      "0.7777777777777778\n",
      "0.6666666666666666\n",
      "1.0\n",
      "0.8888888888888888\n",
      "0.8888888888888888\n",
      "0.6666666666666666\n"
     ]
    }
   ],
   "source": [
    "# Cross Validation\n",
    "kf = KFold(n_splits=10, shuffle=True)\n",
    "for train_index, test_index in kf.split(X_train):\n",
    "    X_train_split, y_train_split = X_train.iloc[train_index], y_train.iloc[train_index]\n",
    "    X_valid_split, y_valid_split = X_train.iloc[test_index], y_train.iloc[test_index]\n",
    "    knn.fit(X_train_split,y_train_split.values.flatten())\n",
    "    print(knn.score(X_valid_split, y_valid_split))"
   ]
  },
  {
   "cell_type": "code",
   "execution_count": 32,
   "metadata": {},
   "outputs": [
    {
     "data": {
      "text/plain": [
       "1.0"
      ]
     },
     "execution_count": 32,
     "metadata": {},
     "output_type": "execute_result"
    }
   ],
   "source": [
    "# whole dataset, 90% train, 10% test\n",
    "knn.fit(X_train, y_train.values.flatten())\n",
    "knn.score(X_test, y_test)"
   ]
  },
  {
   "cell_type": "code",
   "execution_count": null,
   "metadata": {},
   "outputs": [],
   "source": []
  },
  {
   "cell_type": "code",
   "execution_count": null,
   "metadata": {},
   "outputs": [],
   "source": []
  }
 ],
 "metadata": {
  "kernelspec": {
   "display_name": "Python 3",
   "language": "python",
   "name": "python3"
  },
  "language_info": {
   "codemirror_mode": {
    "name": "ipython",
    "version": 3
   },
   "file_extension": ".py",
   "mimetype": "text/x-python",
   "name": "python",
   "nbconvert_exporter": "python",
   "pygments_lexer": "ipython3",
   "version": "3.6.8"
  },
  "widgets": {
   "state": {},
   "version": "1.1.2"
  }
 },
 "nbformat": 4,
 "nbformat_minor": 2
}
