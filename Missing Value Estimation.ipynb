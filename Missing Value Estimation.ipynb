{
 "cells": [
  {
   "cell_type": "code",
   "execution_count": 8,
   "metadata": {},
   "outputs": [],
   "source": [
    "import pandas as pd\n",
    "import numpy as np"
   ]
  },
  {
   "cell_type": "code",
   "execution_count": 9,
   "metadata": {},
   "outputs": [],
   "source": [
    "def weightedKnnImpute(X, k):\n",
    "    #Input: X:= pandas dataframe with uknown values set to NaN\n",
    "    #       k:= number of nearest neighbors sought\n",
    "    \n",
    "    numberOfFeatures = X.shape[1]\n",
    "    \n",
    "    for index1, row1 in X.iterrows():\n",
    "        #track progress\n",
    "        print(\"row: \" + str(index1))\n",
    "        \n",
    "        for i in range(numberOfFeatures):\n",
    "            if np.isnan(row1[i]):\n",
    "\n",
    "                #calculate distances\n",
    "                distArray = []\n",
    "                for index2, row2 in X.iterrows():\n",
    "                    distance = 0\n",
    "                    if(index1 != index2):\n",
    "                        for j in range(numberOfFeatures):\n",
    "                            if( not np.isnan(row1[j]) and not np.isnan(row2[j])):\n",
    "                                distance += np.square(X.loc[index1, j] - row2[j])\n",
    "\n",
    "                        #invert distance\n",
    "                        distArray.append(1 / np.sqrt(distance))\n",
    "                    else:\n",
    "                        distArray.append(0)\n",
    "\n",
    "                #find nearest neighbors and weight their values \n",
    "                result = 0\n",
    "                values = []\n",
    "                totalWeight = 0\n",
    "                weights = []\n",
    "                knn = k\n",
    "                \n",
    "                for l in range(knn):\n",
    "                    argmax = np.argmax(distArray)\n",
    "                    if not np.isnan(X.loc[argmax, i]):\n",
    "                        values.append(X.loc[argmax, i])\n",
    "                        totalWeight += distArray[argmax]\n",
    "                        weights.append(distArray[argmax])\n",
    "                        distArray[argmax] = 0\n",
    "                    else:\n",
    "                        distArray[argmax] = 0\n",
    "                        knn += 1\n",
    "   \n",
    "                for m in range(len(values)):\n",
    "                    result += values[m] * (weights[m] / totalWeight)\n",
    "\n",
    "                row1[i] = result\n",
    "                \n",
    "    return X\n",
    "    "
   ]
  },
  {
   "cell_type": "code",
   "execution_count": null,
   "metadata": {
    "scrolled": false
   },
   "outputs": [],
   "source": [
    "for i in range(1,4):\n",
    "    # put data in pandas dataframe\n",
    "    data = 'datasets/MissingValueEstimation/MissingData{}.txt'.format(i)\n",
    "    X = pd.read_csv(data, sep='\\s+', header=None)\n",
    "    \n",
    "    X = X.transpose()\n",
    "    \n",
    "    # header\n",
    "    print('\\n''*** MissingData{} ***'''.format(i))\n",
    "    print('Number of Samples: ' + str(X.shape[0]))\n",
    "    numberOfFeatures = X.shape[1]\n",
    "    print('Number of Features: ' + str(X.shape[1]))\n",
    "    print(\"\\nOriginal Data: \\n\")\n",
    "\n",
    "    # set uknowns in dataset to NaN\n",
    "    X = X[X < 1.00000000000000e+99]\n",
    "    print(str(X))\n",
    "    \n",
    "    Xresult = weightedKnnImpute(X, 4)\n",
    "    \n",
    "    Xresult = Xresult.transpose()\n",
    "    \n",
    "    np.savetxt(\"Results/LynchMissingResults{}.txt\".format(i), Xresult.values, fmt='%f', delimiter=\"\\t\")\n",
    "    "
   ]
  }
 ],
 "metadata": {
  "kernelspec": {
   "display_name": "Python 3",
   "language": "python",
   "name": "python3"
  },
  "language_info": {
   "codemirror_mode": {
    "name": "ipython",
    "version": 3
   },
   "file_extension": ".py",
   "mimetype": "text/x-python",
   "name": "python",
   "nbconvert_exporter": "python",
   "pygments_lexer": "ipython3",
   "version": "3.7.3"
  }
 },
 "nbformat": 4,
 "nbformat_minor": 2
}
