{
 "cells": [
  {
   "cell_type": "code",
   "execution_count": 84,
   "metadata": {},
   "outputs": [],
   "source": [
    "import pandas as pd\n",
    "import numpy as np\n",
    "\n",
    "from matplotlib import pyplot as plt\n",
    "\n",
    "from sklearn import datasets, linear_model\n",
    "from sklearn.model_selection import LeaveOneOut, cross_val_score, KFold, train_test_split, GridSearchCV\n",
    "\n",
    "from sklearn.linear_model import LogisticRegression, LinearRegression\n",
    "from sklearn.neighbors import KNeighborsClassifier\n",
    "from sklearn.svm import LinearSVC, SVC\n",
    "from sklearn.naive_bayes import MultinomialNB\n",
    "from sklearn.ensemble import RandomForestClassifier, BaggingClassifier, VotingClassifier, AdaBoostClassifier, GradientBoostingClassifier\n",
    "from sklearn.tree import DecisionTreeClassifier"
   ]
  },
  {
   "cell_type": "markdown",
   "metadata": {},
   "source": [
    "## Brute-Force Model Search on Training Data"
   ]
  },
  {
   "cell_type": "code",
   "execution_count": 138,
   "metadata": {},
   "outputs": [
    {
     "name": "stdout",
     "output_type": "stream",
     "text": [
      "(150, 3312)\n",
      "\n",
      "*** Dataset 1 ***\n",
      "Number of Samples: 150\n",
      "Number of Features: 3312\n",
      "Classes: [1 2 4 3 5]\n"
     ]
    },
    {
     "name": "stderr",
     "output_type": "stream",
     "text": [
      "/Users/sethtomy/miniconda3/envs/DS/lib/python3.6/site-packages/sklearn/model_selection/_search.py:841: DeprecationWarning: The default of the `iid` parameter will change from True to False in version 0.22 and will be removed in 0.24. This will change numeric results when test-set sizes are unequal.\n",
      "  DeprecationWarning)\n"
     ]
    },
    {
     "name": "stdout",
     "output_type": "stream",
     "text": [
      "{'n_neighbors': 5}\n"
     ]
    },
    {
     "name": "stderr",
     "output_type": "stream",
     "text": [
      "/Users/sethtomy/miniconda3/envs/DS/lib/python3.6/site-packages/sklearn/svm/base.py:931: ConvergenceWarning: Liblinear failed to converge, increase the number of iterations.\n",
      "  \"the number of iterations.\", ConvergenceWarning)\n",
      "/Users/sethtomy/miniconda3/envs/DS/lib/python3.6/site-packages/sklearn/svm/base.py:196: FutureWarning: The default value of gamma will change from 'auto' to 'scale' in version 0.22 to account better for unscaled features. Set gamma explicitly to 'auto' or 'scale' to avoid this warning.\n",
      "  \"avoid this warning.\", FutureWarning)\n",
      "/Users/sethtomy/miniconda3/envs/DS/lib/python3.6/site-packages/sklearn/model_selection/_search.py:841: DeprecationWarning: The default of the `iid` parameter will change from True to False in version 0.22 and will be removed in 0.24. This will change numeric results when test-set sizes are unequal.\n",
      "  DeprecationWarning)\n"
     ]
    },
    {
     "name": "stdout",
     "output_type": "stream",
     "text": [
      "{'n_estimators': 200}\n"
     ]
    },
    {
     "name": "stderr",
     "output_type": "stream",
     "text": [
      "/Users/sethtomy/miniconda3/envs/DS/lib/python3.6/site-packages/sklearn/svm/base.py:931: ConvergenceWarning: Liblinear failed to converge, increase the number of iterations.\n",
      "  \"the number of iterations.\", ConvergenceWarning)\n",
      "/Users/sethtomy/miniconda3/envs/DS/lib/python3.6/site-packages/sklearn/svm/base.py:196: FutureWarning: The default value of gamma will change from 'auto' to 'scale' in version 0.22 to account better for unscaled features. Set gamma explicitly to 'auto' or 'scale' to avoid this warning.\n",
      "  \"avoid this warning.\", FutureWarning)\n"
     ]
    },
    {
     "name": "stdout",
     "output_type": "stream",
     "text": [
      "(100, 9182)\n",
      "\n",
      "*** Dataset 2 ***\n",
      "Number of Samples: 100\n",
      "Number of Features: 9182\n",
      "Classes: [ 1  2  3  4  5  6  7  8  9 10 11]\n"
     ]
    },
    {
     "name": "stderr",
     "output_type": "stream",
     "text": [
      "/Users/sethtomy/miniconda3/envs/DS/lib/python3.6/site-packages/sklearn/model_selection/_search.py:841: DeprecationWarning: The default of the `iid` parameter will change from True to False in version 0.22 and will be removed in 0.24. This will change numeric results when test-set sizes are unequal.\n",
      "  DeprecationWarning)\n"
     ]
    },
    {
     "name": "stdout",
     "output_type": "stream",
     "text": [
      "{'n_neighbors': 5}\n"
     ]
    },
    {
     "name": "stderr",
     "output_type": "stream",
     "text": [
      "/Users/sethtomy/miniconda3/envs/DS/lib/python3.6/site-packages/sklearn/svm/base.py:931: ConvergenceWarning: Liblinear failed to converge, increase the number of iterations.\n",
      "  \"the number of iterations.\", ConvergenceWarning)\n",
      "/Users/sethtomy/miniconda3/envs/DS/lib/python3.6/site-packages/sklearn/svm/base.py:196: FutureWarning: The default value of gamma will change from 'auto' to 'scale' in version 0.22 to account better for unscaled features. Set gamma explicitly to 'auto' or 'scale' to avoid this warning.\n",
      "  \"avoid this warning.\", FutureWarning)\n",
      "/Users/sethtomy/miniconda3/envs/DS/lib/python3.6/site-packages/sklearn/model_selection/_search.py:841: DeprecationWarning: The default of the `iid` parameter will change from True to False in version 0.22 and will be removed in 0.24. This will change numeric results when test-set sizes are unequal.\n",
      "  DeprecationWarning)\n"
     ]
    },
    {
     "name": "stdout",
     "output_type": "stream",
     "text": [
      "{'n_estimators': 150}\n"
     ]
    },
    {
     "name": "stderr",
     "output_type": "stream",
     "text": [
      "/Users/sethtomy/miniconda3/envs/DS/lib/python3.6/site-packages/sklearn/svm/base.py:931: ConvergenceWarning: Liblinear failed to converge, increase the number of iterations.\n",
      "  \"the number of iterations.\", ConvergenceWarning)\n",
      "/Users/sethtomy/miniconda3/envs/DS/lib/python3.6/site-packages/sklearn/svm/base.py:196: FutureWarning: The default value of gamma will change from 'auto' to 'scale' in version 0.22 to account better for unscaled features. Set gamma explicitly to 'auto' or 'scale' to avoid this warning.\n",
      "  \"avoid this warning.\", FutureWarning)\n"
     ]
    },
    {
     "name": "stdout",
     "output_type": "stream",
     "text": [
      "(6300, 13)\n",
      "\n",
      "*** Dataset 3 ***\n",
      "Number of Samples: 6300\n",
      "Number of Features: 13\n",
      "Classes: [9 1 8 6 2 4 7 5 3]\n",
      "{'n_neighbors': 14}\n"
     ]
    },
    {
     "name": "stderr",
     "output_type": "stream",
     "text": [
      "/Users/sethtomy/miniconda3/envs/DS/lib/python3.6/site-packages/sklearn/svm/base.py:931: ConvergenceWarning: Liblinear failed to converge, increase the number of iterations.\n",
      "  \"the number of iterations.\", ConvergenceWarning)\n",
      "/Users/sethtomy/miniconda3/envs/DS/lib/python3.6/site-packages/sklearn/svm/base.py:196: FutureWarning: The default value of gamma will change from 'auto' to 'scale' in version 0.22 to account better for unscaled features. Set gamma explicitly to 'auto' or 'scale' to avoid this warning.\n",
      "  \"avoid this warning.\", FutureWarning)\n"
     ]
    },
    {
     "name": "stdout",
     "output_type": "stream",
     "text": [
      "{'n_estimators': 175}\n"
     ]
    },
    {
     "name": "stderr",
     "output_type": "stream",
     "text": [
      "/Users/sethtomy/miniconda3/envs/DS/lib/python3.6/site-packages/sklearn/svm/base.py:931: ConvergenceWarning: Liblinear failed to converge, increase the number of iterations.\n",
      "  \"the number of iterations.\", ConvergenceWarning)\n",
      "/Users/sethtomy/miniconda3/envs/DS/lib/python3.6/site-packages/sklearn/svm/base.py:196: FutureWarning: The default value of gamma will change from 'auto' to 'scale' in version 0.22 to account better for unscaled features. Set gamma explicitly to 'auto' or 'scale' to avoid this warning.\n",
      "  \"avoid this warning.\", FutureWarning)\n"
     ]
    },
    {
     "name": "stdout",
     "output_type": "stream",
     "text": [
      "(2547, 112)\n",
      "\n",
      "*** Dataset 4 ***\n",
      "Number of Samples: 2547\n",
      "Number of Features: 112\n",
      "Classes: [1 2 3 4 5 6 7 8 9]\n"
     ]
    },
    {
     "name": "stderr",
     "output_type": "stream",
     "text": [
      "/Users/sethtomy/miniconda3/envs/DS/lib/python3.6/site-packages/sklearn/model_selection/_search.py:841: DeprecationWarning: The default of the `iid` parameter will change from True to False in version 0.22 and will be removed in 0.24. This will change numeric results when test-set sizes are unequal.\n",
      "  DeprecationWarning)\n"
     ]
    },
    {
     "name": "stdout",
     "output_type": "stream",
     "text": [
      "{'n_neighbors': 6}\n"
     ]
    },
    {
     "name": "stderr",
     "output_type": "stream",
     "text": [
      "/Users/sethtomy/miniconda3/envs/DS/lib/python3.6/site-packages/sklearn/svm/base.py:931: ConvergenceWarning: Liblinear failed to converge, increase the number of iterations.\n",
      "  \"the number of iterations.\", ConvergenceWarning)\n",
      "/Users/sethtomy/miniconda3/envs/DS/lib/python3.6/site-packages/sklearn/svm/base.py:196: FutureWarning: The default value of gamma will change from 'auto' to 'scale' in version 0.22 to account better for unscaled features. Set gamma explicitly to 'auto' or 'scale' to avoid this warning.\n",
      "  \"avoid this warning.\", FutureWarning)\n",
      "/Users/sethtomy/miniconda3/envs/DS/lib/python3.6/site-packages/sklearn/model_selection/_search.py:841: DeprecationWarning: The default of the `iid` parameter will change from True to False in version 0.22 and will be removed in 0.24. This will change numeric results when test-set sizes are unequal.\n",
      "  DeprecationWarning)\n"
     ]
    },
    {
     "name": "stdout",
     "output_type": "stream",
     "text": [
      "{'n_estimators': 175}\n"
     ]
    },
    {
     "name": "stderr",
     "output_type": "stream",
     "text": [
      "/Users/sethtomy/miniconda3/envs/DS/lib/python3.6/site-packages/sklearn/svm/base.py:931: ConvergenceWarning: Liblinear failed to converge, increase the number of iterations.\n",
      "  \"the number of iterations.\", ConvergenceWarning)\n",
      "/Users/sethtomy/miniconda3/envs/DS/lib/python3.6/site-packages/sklearn/svm/base.py:196: FutureWarning: The default value of gamma will change from 'auto' to 'scale' in version 0.22 to account better for unscaled features. Set gamma explicitly to 'auto' or 'scale' to avoid this warning.\n",
      "  \"avoid this warning.\", FutureWarning)\n"
     ]
    },
    {
     "name": "stdout",
     "output_type": "stream",
     "text": [
      "(1119, 11)\n",
      "\n",
      "*** Dataset 5 ***\n",
      "Number of Samples: 1119\n",
      "Number of Features: 11\n",
      "Classes: [5 6 7 4 8 3]\n",
      "{'n_neighbors': 11}\n"
     ]
    },
    {
     "name": "stderr",
     "output_type": "stream",
     "text": [
      "/Users/sethtomy/miniconda3/envs/DS/lib/python3.6/site-packages/sklearn/svm/base.py:931: ConvergenceWarning: Liblinear failed to converge, increase the number of iterations.\n",
      "  \"the number of iterations.\", ConvergenceWarning)\n",
      "/Users/sethtomy/miniconda3/envs/DS/lib/python3.6/site-packages/sklearn/svm/base.py:196: FutureWarning: The default value of gamma will change from 'auto' to 'scale' in version 0.22 to account better for unscaled features. Set gamma explicitly to 'auto' or 'scale' to avoid this warning.\n",
      "  \"avoid this warning.\", FutureWarning)\n"
     ]
    },
    {
     "name": "stdout",
     "output_type": "stream",
     "text": [
      "{'n_estimators': 50}\n"
     ]
    },
    {
     "name": "stderr",
     "output_type": "stream",
     "text": [
      "/Users/sethtomy/miniconda3/envs/DS/lib/python3.6/site-packages/sklearn/svm/base.py:931: ConvergenceWarning: Liblinear failed to converge, increase the number of iterations.\n",
      "  \"the number of iterations.\", ConvergenceWarning)\n",
      "/Users/sethtomy/miniconda3/envs/DS/lib/python3.6/site-packages/sklearn/svm/base.py:196: FutureWarning: The default value of gamma will change from 'auto' to 'scale' in version 0.22 to account better for unscaled features. Set gamma explicitly to 'auto' or 'scale' to avoid this warning.\n",
      "  \"avoid this warning.\", FutureWarning)\n"
     ]
    }
   ],
   "source": [
    "# Run every dataset(5 of them) through multiple models, with different parameters to find best model\n",
    "best_estimators = {'knn_best': [],\n",
    "                   'svm_best': [],\n",
    "                   'svc_best': [],\n",
    "                   'rf_best': [],\n",
    "                   'dt_best': [],\n",
    "                   'ensemble_best': [],\n",
    "                    }\n",
    "results_list = []\n",
    "best_params = {'knn': [],\n",
    "               'rf': [],}\n",
    "cv = 3\n",
    "for i in range(1,6):\n",
    "    # put data in pandas dataframe\n",
    "    data = 'datasets/Classification/Data{}/TrainData{}.txt'.format(i, i)\n",
    "    label = 'datasets/Classification/Data{}/TrainLabel{}.txt'.format(i, i)\n",
    "    X = pd.read_csv(data, sep='\\s+', header=None)\n",
    "    y = pd.read_csv(label, header=None)\n",
    "    print(X.shape)\n",
    "    print()\n",
    "    print('''*** Dataset {} ***'''.format(i))\n",
    "    print('Number of Samples: ' + str(X.shape[0]))\n",
    "    print('Number of Features: ' + str(X.shape[1]))\n",
    "    print('Classes: ' + str(y[0].unique()))\n",
    "    \n",
    "    # fill missing values\n",
    "    # change to nan\n",
    "    X = X[X < 1e99]\n",
    "    # fill linear-ly\n",
    "    #X = X.interpolate()\n",
    "    # fill outside values with mean\n",
    "    X = X.fillna(X.mean())\n",
    "\n",
    "    #, stratify=y\n",
    "    # split into 90% train and 10% test set\n",
    "    X_train, X_test, y_train, y_test = train_test_split(X, y, test_size=0.1, shuffle=True, random_state=42)\n",
    "    #X_train = X\n",
    "    #y_train = y\n",
    "    \n",
    "    results = {'knn': [],\n",
    "               'svm': [],\n",
    "               'svc': [],\n",
    "               'rf': [],\n",
    "               'dt': [],\n",
    "               'ensemble': [],}\n",
    "    \n",
    "    # KNN\n",
    "    knn = KNeighborsClassifier(weights='distance')\n",
    "    params_knn = {'n_neighbors': np.arange(5, 15)}\n",
    "    knn_gs = GridSearchCV(knn, params_knn, cv=cv)\n",
    "    knn_gs.fit(X_train, y_train.values.flatten())\n",
    "    best_estimators['knn_best'].append(knn_gs.best_estimator_)\n",
    "    results['knn'].append(best_estimators['knn_best'][i-1].score(X_test, y_test))\n",
    "    best_params['knn'].append(knn_gs.best_params_)\n",
    "    print(knn_gs.best_params_)\n",
    "    \n",
    "    # SVM\n",
    "    svm = LinearSVC()\n",
    "    svm.fit(X_train, y_train.values.flatten())\n",
    "    best_estimators['svm_best'].append(svm)\n",
    "    results['svm'].append(best_estimators['svm_best'][i-1].score(X_test, y_test))\n",
    "    \n",
    "    # SVC\n",
    "    svc = SVC()\n",
    "    svc.fit(X_train, y_train.values.flatten())\n",
    "    best_estimators['svc_best'].append(svc)\n",
    "    results['svc'].append(best_estimators['svc_best'][i-1].score(X_test, y_test))\n",
    "    \n",
    "    # Random Forest\n",
    "    rf = RandomForestClassifier(random_state=0)\n",
    "    params_rf = {'n_estimators': [50, 100, 125, 150, 175, 200]}\n",
    "    rf_gs = GridSearchCV(rf, params_rf, cv=cv)\n",
    "    rf_gs.fit(X_train, y_train.values.flatten())\n",
    "    best_estimators['rf_best'].append(rf_gs.best_estimator_)\n",
    "    results['rf'].append(best_estimators['rf_best'][i-1].score(X_test, y_test))\n",
    "    print(rf_gs.best_params_)\n",
    "    best_params['rf'].append(rf_gs.best_params_)\n",
    "    \n",
    "    # Decision Tree\n",
    "    dt = DecisionTreeClassifier(random_state=0)\n",
    "    dt.fit(X_train, y_train.values.flatten())\n",
    "    best_estimators['dt_best'].append(dt)\n",
    "    results['dt'].append(best_estimators['dt_best'][i-1].score(X_test, y_test))\n",
    "    \n",
    "    # Ensemble\n",
    "    knn = KNeighborsClassifier(weights='distance', n_neighbors = best_params['knn'][i - 1]['n_neighbors'])\n",
    "    svm = LinearSVC()\n",
    "    svc = SVC()\n",
    "    rf = RandomForestClassifier(n_estimators=best_params['rf'][i-1]['n_estimators'], random_state=0)\n",
    "    dt = DecisionTreeClassifier(random_state=0)\n",
    "\n",
    "    estimators=[('knn', knn), \n",
    "                ('svm', svm),\n",
    "                ('svc', svc),\n",
    "                ('dt', dt),\n",
    "                ('rf', rf)]\n",
    "\n",
    "    \n",
    "    #create our voting classifier, inputting our models\n",
    "    ensemble = VotingClassifier(estimators, voting='hard')\n",
    "    ensemble.fit(X_train, y_train.values.flatten())\n",
    "    best_estimators['ensemble_best'].append(ensemble)\n",
    "    #results['ensemble'].append(ensemble.score(X_test, y_test.values.flatten()))\n",
    "    \n",
    "    #df = pd.DataFrame(dict([ (k,pd.Series(v)) for k,v in results.items() ]))    \n",
    "    #results_list.append(df)"
   ]
  },
  {
   "cell_type": "markdown",
   "metadata": {},
   "source": [
    "## Save Test Predictions to Disk"
   ]
  },
  {
   "cell_type": "markdown",
   "metadata": {},
   "source": [
    "***Above*** Must comment out train_test_split and change X/y to X_train/y_train to use all training data"
   ]
  },
  {
   "cell_type": "code",
   "execution_count": 143,
   "metadata": {},
   "outputs": [
    {
     "name": "stdout",
     "output_type": "stream",
     "text": [
      "(480, 11)\n",
      "480\n",
      "480\n"
     ]
    }
   ],
   "source": [
    "i = 5\n",
    "data = 'datasets/Classification/Data{}/TestData{}.txt'.format(i, i)\n",
    "X = pd.read_csv(data, sep='\\s+', header=None)\n",
    "print(X.shape)\n",
    "print(X.shape[0])\n",
    "# fill missing values\n",
    "# change to nan\n",
    "if(i != 3):\n",
    "    X = X[X < 1e99]\n",
    "if(i == 3):\n",
    "    X = X[X < 1e8]\n",
    "# fill outside values with mean\n",
    "X = X.fillna(X.mean())\n",
    "\n",
    "labels = pd.DataFrame(best_estimators['ensemble_best'][i-1].predict(X))\n",
    "print(labels.shape[0])\n",
    "np.savetxt(r'TomyClassification{}.txt'.format(i), labels, fmt='%d')"
   ]
  },
  {
   "cell_type": "code",
   "execution_count": null,
   "metadata": {},
   "outputs": [],
   "source": [
    "results = pd.concat(results_list, ignore_index=True)\n",
    "results.index = range(1,len(results)+1)\n",
    "results"
   ]
  },
  {
   "cell_type": "code",
   "execution_count": 102,
   "metadata": {},
   "outputs": [
    {
     "data": {
      "text/plain": [
       "svm         0.866667\n",
       "ensemble    0.800000\n",
       "dt          0.800000\n",
       "knn         0.800000\n",
       "rf          0.733333\n",
       "svc         0.733333\n",
       "Name: 1, dtype: float64"
      ]
     },
     "execution_count": 102,
     "metadata": {},
     "output_type": "execute_result"
    }
   ],
   "source": [
    "results.iloc[0].sort_values(ascending=False)"
   ]
  },
  {
   "cell_type": "code",
   "execution_count": 103,
   "metadata": {},
   "outputs": [
    {
     "data": {
      "text/plain": [
       "ensemble    1.0\n",
       "rf          1.0\n",
       "svm         1.0\n",
       "knn         1.0\n",
       "dt          0.7\n",
       "svc         0.5\n",
       "Name: 2, dtype: float64"
      ]
     },
     "execution_count": 103,
     "metadata": {},
     "output_type": "execute_result"
    }
   ],
   "source": [
    "results.iloc[1].sort_values(ascending=False)"
   ]
  },
  {
   "cell_type": "code",
   "execution_count": 104,
   "metadata": {},
   "outputs": [
    {
     "data": {
      "text/plain": [
       "ensemble    0.347619\n",
       "svc         0.341270\n",
       "rf          0.334921\n",
       "knn         0.325397\n",
       "svm         0.301587\n",
       "dt          0.293651\n",
       "Name: 3, dtype: float64"
      ]
     },
     "execution_count": 104,
     "metadata": {},
     "output_type": "execute_result"
    }
   ],
   "source": [
    "results.iloc[2].sort_values(ascending=False)"
   ]
  },
  {
   "cell_type": "code",
   "execution_count": 105,
   "metadata": {},
   "outputs": [
    {
     "data": {
      "text/plain": [
       "rf          0.929412\n",
       "ensemble    0.878431\n",
       "dt          0.854902\n",
       "knn         0.764706\n",
       "svm         0.466667\n",
       "svc         0.121569\n",
       "Name: 4, dtype: float64"
      ]
     },
     "execution_count": 105,
     "metadata": {},
     "output_type": "execute_result"
    }
   ],
   "source": [
    "results.iloc[3].sort_values(ascending=False)"
   ]
  },
  {
   "cell_type": "code",
   "execution_count": 106,
   "metadata": {},
   "outputs": [
    {
     "data": {
      "text/plain": [
       "rf          0.714286\n",
       "ensemble    0.669643\n",
       "dt          0.607143\n",
       "svc         0.580357\n",
       "knn         0.571429\n",
       "svm         0.178571\n",
       "Name: 5, dtype: float64"
      ]
     },
     "execution_count": 106,
     "metadata": {},
     "output_type": "execute_result"
    }
   ],
   "source": [
    "results.iloc[4].sort_values(ascending=False)"
   ]
  },
  {
   "cell_type": "code",
   "execution_count": null,
   "metadata": {},
   "outputs": [],
   "source": []
  },
  {
   "cell_type": "code",
   "execution_count": null,
   "metadata": {},
   "outputs": [],
   "source": []
  }
 ],
 "metadata": {
  "kernelspec": {
   "display_name": "Python 3",
   "language": "python",
   "name": "python3"
  },
  "language_info": {
   "codemirror_mode": {
    "name": "ipython",
    "version": 3
   },
   "file_extension": ".py",
   "mimetype": "text/x-python",
   "name": "python",
   "nbconvert_exporter": "python",
   "pygments_lexer": "ipython3",
   "version": "3.6.8"
  }
 },
 "nbformat": 4,
 "nbformat_minor": 2
}
